{
 "cells": [
  {
   "cell_type": "code",
   "execution_count": 4,
   "metadata": {},
   "outputs": [],
   "source": [
    "import requests\n",
    "from bs4 import BeautifulSoup\n",
    "\n",
    "city = 'gdansk'\n",
    "url = 'https://www.olx.pl/nieruchomosci/mieszkania/sprzedaz/{}/?page='.format(city)\n",
    "\n",
    "titles = []\n",
    "prices = []\n",
    "cards = None"
   ]
  },
  {
   "cell_type": "code",
   "execution_count": 5,
   "metadata": {},
   "outputs": [
    {
     "name": "stdout",
     "output_type": "stream",
     "text": [
      "\n"
     ]
    }
   ],
   "source": [
    "pages = 1\n",
    "for page_index in range(pages):\n",
    "  next_url = url + str(page_index + 1)\n",
    "  response = requests.get(url)\n",
    "\n",
    "  if response.status_code == 200:\n",
    "    soup = BeautifulSoup(response.text, 'html.parser')\n",
    "    cards = soup.find_all('div', {'data-cy': 'l-card'})\n",
    "\n",
    "  for card in cards:\n",
    "    title = card.find('h6').text\n",
    "    price = card.find('p').text\n",
    "    price = int(''.join(price[:price.index('z')].split()))\n",
    "    titles.append(title)\n",
    "    prices.append(price)\n"
   ]
  },
  {
   "cell_type": "code",
   "execution_count": 3,
   "metadata": {},
   "outputs": [
    {
     "name": "stdout",
     "output_type": "stream",
     "text": [
      "['Mieszkanie 3-pokojowe 66,96 m². Gdańsk, Przymorze', 'Nadmorski apartament 2-pokojowy - Przystań Letnica', '72 m2 Mieszkanie w samym sercu Wrzeszcza', 'Wyposażone mieszkanie, 2 m. parkingowe W CENIE !!', 'Dni Otwarte | Widok Na Morze | Centralpark', 'Wykończone mieszkanie na Jasieniu, od ręki', 'Apartament inwestycyjny Śląska 12, k/Skm i Ug!', 'Piękne dwa pokoje, gotowe, przy plaży :)', 'Mieszkanie 1,5 km od Centrum, gotowe do odbioru!!', 'Mieszkanie - Gdańsk Jasień', 'OKAZYJNA CENA z widokiem na LAS_wys standard_siłka', 'Gdańsk Oliwa - Mieszkanie 4 pokojowe', '55m Mieszkanie w cenie promocyjnej - Bezpieczny Kredyt 2%', 'Widne mieszkanie, komórka, garaż + miej. postojowe', 'Dwupoziomowe - 6 pokoi -131,5m2', 'Duży balkon*Cegła*Dwustronne*Zieleń*Dobra Cena', 'Mieszkanie - Gdańsk Wrzeszcz', 'Mieszkanie 2 pokojowe 41,55m2', 'Nowoczesne Mieszkanie | Wysoki Standard | Garaż', 'Mieszkanie w świetnej lokalizacji', 'Ogródek, miejsce parkingowe, Gdańsk Osowa.', '453 180 NETTO przy Starówce WIDOK na Rzekę -VAT', '3 pokoje w nowym budownictwie Wrzeszcz', 'ODBIERZ KLUCZE +umów się na oglądanie na ŻYWO !!', 'NAJTAŃSZE8800/m2 RABATY do soboty_przystanek_sklep', '4-pokojowe mieszkanie 72m2 + ogródek', 'Śródmieście ul. Toruńska, GOTOWA INWESTYCJA', '3- pokojowe mieszkanie w świetnej lokalizacji – Gdańsk Żabianka!', '55m Mieszkanie w cenie promocyjnej - Bezpieczny Kredyt 2%', 'Stan deweloperski, z pięknym widokiem.', 'Mieszkanie 3-pokojowe 66,96 m². Gdańsk, Przymorze', 'Wyspa Sobieszewska - super promocja!!!', '4-pokoje z garażem/ Gdańsk Morena/Wysoki standard!', 'Gotowe 3 pokoje z ogródkiem i garażem.', 'Słoneczne 2 pokoje, widok na jezioro, hala garażowa ul. Flisykowskiego', 'NAROŻNE 3pok w NISKIEJ cenie 18min od Starówki bus', 'Po Remoncie, Dwustronne, Wirtualny Spacer', 'Mieszkanie Premium z tarasem widokowym Morena', 'Mieszkanie 3-pokojowe 61 m2, Gdańsk-Kartuska', 'Gdańsk Oliwa - Mieszkanie 4 pokojowe', 'Harmonia Oliwska -przy Parku Oliwskim, wszędzie blisko/wysoki standard', 'Mieszkanie po remoncie blisko Centrum - polecam', 'Apartament do własnej aranżacji na nowym osiedlu', 'Rezerwacja do 30.10.2023', 'Elegancki apartament na Stary Mieście+zarz. najmem', 'Nowe Mieszkanie Wysoki Standard', 'kawalerka, mieszkanie idealne dla pary bądź singla', 'Dwupoziomowe mieszkanie w dzielnicy Gdańsk Osowa', '5Min Do Neptuna/Widok Na Mariacką/Airbnb', 'MEGA OKAZJA CENOWA_Zaoszczędź już teraz_kredyt 2%', '3 pokojowe mieszkanie na gdańskim Przymorzu', '8700/m2 +TARAS +70m2 Narożnego OGRODU_Lidl_Okazja', 'Mieszkanie 3-pokojowe 66,96 m². Gdańsk, Przymorze', 'Nadmorski apartament 2-pokojowy - Przystań Letnica', 'Sprzedam mieszkanie 2 pok. ul. Stajenna 5 Gdańsk', 'Wyposażone mieszkanie, 2 m. parkingowe W CENIE !!', 'Dni Otwarte | Widok Na Morze | Centralpark', 'Wykończone mieszkanie na Jasieniu, od ręki', 'Apartament inwestycyjny Śląska 12, k/Skm i Ug!', 'Piękne dwa pokoje, gotowe, przy plaży :)', 'Mieszkanie 1,5 km od Centrum, gotowe do odbioru!!', 'Mieszkanie - Gdańsk Jasień', 'OKAZYJNA CENA z widokiem na LAS_wys standard_siłka', 'Gdańsk Oliwa - Mieszkanie 4 pokojowe', '55m Mieszkanie w cenie promocyjnej - Bezpieczny Kredyt 2%', 'Widne mieszkanie, komórka, garaż + miej. postojowe', 'Dwupoziomowe - 6 pokoi -131,5m2', 'Śródmieście ul. Toruńska, GOTOWA INWESTYCJA', 'Mieszkanie - Gdańsk Wrzeszcz', 'Mieszkanie 2 pokojowe 41,55m2', 'Nowoczesne Mieszkanie | Wysoki Standard | Garaż', 'Mieszkanie w świetnej lokalizacji', 'Ogródek, miejsce parkingowe, Gdańsk Osowa.', '453 180 NETTO przy Starówce WIDOK na Rzekę -VAT', '3 pokoje w nowym budownictwie Wrzeszcz', 'ODBIERZ KLUCZE +umów się na oglądanie na ŻYWO !!', 'NAJTAŃSZE8800/m2 RABATY do soboty_przystanek_sklep', '4-pokojowe mieszkanie 72m2 + ogródek', '3- pokojowe mieszkanie w świetnej lokalizacji – Gdańsk Żabianka!', '55m Mieszkanie w cenie promocyjnej - Bezpieczny Kredyt 2%', 'Mieszkanie po remoncie blisko Centrum - polecam', 'Stan deweloperski, z pięknym widokiem.', 'Mieszkanie 3-pokojowe 66,96 m². Gdańsk, Przymorze', 'Wyspa Sobieszewska - super promocja!!!', '4-pokoje z garażem/ Gdańsk Morena/Wysoki standard!', 'Gotowe 3 pokoje z ogródkiem i garażem.', 'Słoneczne 2 pokoje, widok na jezioro, hala garażowa ul. Flisykowskiego', 'NAROŻNE 3pok w NISKIEJ cenie 18min od Starówki bus', 'Po Remoncie, Dwustronne, Wirtualny Spacer', 'Mieszkanie Premium z tarasem widokowym Morena', 'Mieszkanie 3-pokojowe 61 m2, Gdańsk-Kartuska', 'Komfortowe mieszkanie w stylu glamour, 2 tarasami', 'Harmonia Oliwska -przy Parku Oliwskim, wszędzie blisko/wysoki standard', 'Centrum Wrzeszcza, mieszkanie z ogrodem i miejscem parkingowym 40m2', 'Apartament do własnej aranżacji na nowym osiedlu', 'Rezerwacja do 30.10.2023', 'Elegancki apartament na Stary Mieście+zarz. najmem', 'Nowe Mieszkanie Wysoki Standard', 'kawalerka, mieszkanie idealne dla pary bądź singla', 'Dwupoziomowe mieszkanie w dzielnicy Gdańsk Osowa', '5Min Do Neptuna/Widok Na Mariacką/Airbnb', 'MEGA OKAZJA CENOWA_Zaoszczędź już teraz_kredyt 2%', '3 pokojowe mieszkanie na gdańskim Przymorzu', '8700/m2 +TARAS +70m2 Narożnego OGRODU_Lidl_Okazja']\n"
     ]
    }
   ],
   "source": [
    "print(titles)"
   ]
  },
  {
   "cell_type": "code",
   "execution_count": null,
   "metadata": {},
   "outputs": [],
   "source": []
  }
 ],
 "metadata": {
  "kernelspec": {
   "display_name": "Python 3",
   "language": "python",
   "name": "python3"
  },
  "language_info": {
   "codemirror_mode": {
    "name": "ipython",
    "version": 3
   },
   "file_extension": ".py",
   "mimetype": "text/x-python",
   "name": "python",
   "nbconvert_exporter": "python",
   "pygments_lexer": "ipython3",
   "version": "3.11.0"
  }
 },
 "nbformat": 4,
 "nbformat_minor": 2
}
