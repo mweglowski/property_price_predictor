{
 "cells": [
  {
   "cell_type": "code",
   "execution_count": 103,
   "metadata": {},
   "outputs": [],
   "source": [
    "import requests\n",
    "import numpy as np\n",
    "import pandas as pd\n",
    "import matplotlib.pyplot as plt\n",
    "import seaborn as sns\n",
    "from bs4 import BeautifulSoup\n",
    "\n",
    "city = 'gdansk'\n",
    "url = 'https://www.olx.pl/nieruchomosci/mieszkania/sprzedaz/{}/?page='.format(city)\n",
    "\n",
    "columns = ['Title', 'Price', 'Sq_Footage', 'District']\n",
    "df = pd.DataFrame(columns=columns)"
   ]
  },
  {
   "cell_type": "code",
   "execution_count": 104,
   "metadata": {},
   "outputs": [],
   "source": [
    "pages = 1"
   ]
  },
  {
   "cell_type": "code",
   "execution_count": 105,
   "metadata": {},
   "outputs": [],
   "source": [
    "for page_index in range(pages):\n",
    "\tnext_url = url + str(page_index + 1)\n",
    "\tresponse = requests.get(next_url)\n",
    "\n",
    "\tif response.status_code == 200:\n",
    "\t\tsoup = BeautifulSoup(response.text, 'html.parser')\n",
    "\t\tcards = soup.find_all('div', {'data-cy': 'l-card'})\n",
    "\n",
    "\tfor card in cards:\n",
    "\t\ttry:\n",
    "\t\t\t# SHORTEN TITLE NAME IF LARGER THAN 40\n",
    "\t\t\ttitle = card.find('h6').text\n",
    "\t\t\tif len(title) > 37:\n",
    "\t\t\t\ttitle = title[:37] + '...'\n",
    "\t\t\tprice = card.find('p').text\n",
    "\t\t\tprice = float(price[:price.index('z')].replace(' ', ''))\n",
    "\t\t\tsq_footage_data = card.find('span', {'class': 'css-643j0o'}).text\n",
    "\t\t\tsq_footage = float(sq_footage_data[:sq_footage_data.index('m') - 1].replace(',', '.'))\n",
    "\t\t\t# EXTRACT DISTRICT NAME, OTHERWISE SET GDAŃSK\n",
    "\t\t\tdistrict = card.find('p', {'class': 'css-veheph er34gjf0'}).text\n",
    "\t\t\tif ',' in district:\n",
    "\t\t\t\tdistrict = district[8 : ]\n",
    "\t\t\t\tdistrict = district[: district.index(' ')]\n",
    "\t\t\t\tif district == 'Nowy':\n",
    "\t\t\t\t\tdistrict += ' Port'\n",
    "\t\t\t\tif district == 'Wyspa':\n",
    "\t\t\t\t\tdistrict += ' Sobieszewska'\n",
    "\t\t\telse:\n",
    "\t\t\t\tdistrict = 'Unknown'\n",
    "\t\t\t\n",
    "\t\t\tdf.loc[len(df)] = [title, price, sq_footage, district]\n",
    "\t\texcept:\n",
    "\t\t\tcontinue"
   ]
  },
  {
   "cell_type": "code",
   "execution_count": 106,
   "metadata": {},
   "outputs": [
    {
     "data": {
      "text/html": [
       "<div>\n",
       "<style scoped>\n",
       "    .dataframe tbody tr th:only-of-type {\n",
       "        vertical-align: middle;\n",
       "    }\n",
       "\n",
       "    .dataframe tbody tr th {\n",
       "        vertical-align: top;\n",
       "    }\n",
       "\n",
       "    .dataframe thead th {\n",
       "        text-align: right;\n",
       "    }\n",
       "</style>\n",
       "<table border=\"1\" class=\"dataframe\">\n",
       "  <thead>\n",
       "    <tr style=\"text-align: right;\">\n",
       "      <th></th>\n",
       "      <th>Title</th>\n",
       "      <th>Price</th>\n",
       "      <th>Sq_Footage</th>\n",
       "      <th>District</th>\n",
       "    </tr>\n",
       "  </thead>\n",
       "  <tbody>\n",
       "    <tr>\n",
       "      <th>0</th>\n",
       "      <td>Nowe 4 pokoje_12 min od Centrum_Możli...</td>\n",
       "      <td>532790.0</td>\n",
       "      <td>60.6</td>\n",
       "      <td>Unknown</td>\n",
       "    </tr>\n",
       "    <tr>\n",
       "      <th>1</th>\n",
       "      <td>Mieszkanie bezczynszowe kup za 50% wa...</td>\n",
       "      <td>399000.0</td>\n",
       "      <td>75.0</td>\n",
       "      <td>Młyniska</td>\n",
       "    </tr>\n",
       "    <tr>\n",
       "      <th>2</th>\n",
       "      <td>Nadmorski Apartament MILA BALTICA Wys...</td>\n",
       "      <td>1499000.0</td>\n",
       "      <td>59.0</td>\n",
       "      <td>Unknown</td>\n",
       "    </tr>\n",
       "    <tr>\n",
       "      <th>3</th>\n",
       "      <td>4-pok. mieszkanie 90m² z ogrodem - 20...</td>\n",
       "      <td>399000.0</td>\n",
       "      <td>90.0</td>\n",
       "      <td>Chełm</td>\n",
       "    </tr>\n",
       "    <tr>\n",
       "      <th>4</th>\n",
       "      <td>Mieszkanie 75m2 - 4pokoje - 20 min. d...</td>\n",
       "      <td>399000.0</td>\n",
       "      <td>75.0</td>\n",
       "      <td>Chełm</td>\n",
       "    </tr>\n",
       "  </tbody>\n",
       "</table>\n",
       "</div>"
      ],
      "text/plain": [
       "                                      Title      Price  Sq_Footage  District\n",
       "0  Nowe 4 pokoje_12 min od Centrum_Możli...   532790.0        60.6   Unknown\n",
       "1  Mieszkanie bezczynszowe kup za 50% wa...   399000.0        75.0  Młyniska\n",
       "2  Nadmorski Apartament MILA BALTICA Wys...  1499000.0        59.0   Unknown\n",
       "3  4-pok. mieszkanie 90m² z ogrodem - 20...   399000.0        90.0     Chełm\n",
       "4  Mieszkanie 75m2 - 4pokoje - 20 min. d...   399000.0        75.0     Chełm"
      ]
     },
     "execution_count": 106,
     "metadata": {},
     "output_type": "execute_result"
    }
   ],
   "source": [
    "df.head()"
   ]
  },
  {
   "cell_type": "code",
   "execution_count": 107,
   "metadata": {},
   "outputs": [
    {
     "data": {
      "text/plain": [
       "array(['Unknown', 'Młyniska', 'Chełm', 'Wrzeszcz', 'Nowy Port',\n",
       "       'Wyspa Sobieszewska', 'Letnica', 'Jasień', 'Osowa', 'Brzeźno',\n",
       "       'Brętowo', 'Ujeścisko', 'Orunia', 'Śródmieście', 'Żabianka'],\n",
       "      dtype=object)"
      ]
     },
     "execution_count": 107,
     "metadata": {},
     "output_type": "execute_result"
    }
   ],
   "source": [
    "unique_districts = df['District'].unique()\n",
    "unique_districts"
   ]
  },
  {
   "cell_type": "code",
   "execution_count": 108,
   "metadata": {},
   "outputs": [
    {
     "data": {
      "text/plain": [
       "{'Unknown': 0,\n",
       " 'Młyniska': 1,\n",
       " 'Chełm': 2,\n",
       " 'Wrzeszcz': 3,\n",
       " 'Nowy Port': 4,\n",
       " 'Wyspa Sobieszewska': 5,\n",
       " 'Letnica': 6,\n",
       " 'Jasień': 7,\n",
       " 'Osowa': 8,\n",
       " 'Brzeźno': 9,\n",
       " 'Brętowo': 10,\n",
       " 'Ujeścisko': 11,\n",
       " 'Orunia': 12,\n",
       " 'Śródmieście': 13,\n",
       " 'Żabianka': 14}"
      ]
     },
     "execution_count": 108,
     "metadata": {},
     "output_type": "execute_result"
    }
   ],
   "source": [
    "district_mapping = {district: index for index, district in enumerate(unique_districts)}\n",
    "district_mapping"
   ]
  },
  {
   "cell_type": "code",
   "execution_count": 109,
   "metadata": {},
   "outputs": [
    {
     "data": {
      "text/html": [
       "<div>\n",
       "<style scoped>\n",
       "    .dataframe tbody tr th:only-of-type {\n",
       "        vertical-align: middle;\n",
       "    }\n",
       "\n",
       "    .dataframe tbody tr th {\n",
       "        vertical-align: top;\n",
       "    }\n",
       "\n",
       "    .dataframe thead th {\n",
       "        text-align: right;\n",
       "    }\n",
       "</style>\n",
       "<table border=\"1\" class=\"dataframe\">\n",
       "  <thead>\n",
       "    <tr style=\"text-align: right;\">\n",
       "      <th></th>\n",
       "      <th>Title</th>\n",
       "      <th>Price</th>\n",
       "      <th>Sq_Footage</th>\n",
       "      <th>District</th>\n",
       "    </tr>\n",
       "  </thead>\n",
       "  <tbody>\n",
       "    <tr>\n",
       "      <th>0</th>\n",
       "      <td>Nowe 4 pokoje_12 min od Centrum_Możli...</td>\n",
       "      <td>532790.0</td>\n",
       "      <td>60.6</td>\n",
       "      <td>0</td>\n",
       "    </tr>\n",
       "    <tr>\n",
       "      <th>1</th>\n",
       "      <td>Mieszkanie bezczynszowe kup za 50% wa...</td>\n",
       "      <td>399000.0</td>\n",
       "      <td>75.0</td>\n",
       "      <td>1</td>\n",
       "    </tr>\n",
       "    <tr>\n",
       "      <th>2</th>\n",
       "      <td>Nadmorski Apartament MILA BALTICA Wys...</td>\n",
       "      <td>1499000.0</td>\n",
       "      <td>59.0</td>\n",
       "      <td>0</td>\n",
       "    </tr>\n",
       "    <tr>\n",
       "      <th>3</th>\n",
       "      <td>4-pok. mieszkanie 90m² z ogrodem - 20...</td>\n",
       "      <td>399000.0</td>\n",
       "      <td>90.0</td>\n",
       "      <td>2</td>\n",
       "    </tr>\n",
       "    <tr>\n",
       "      <th>4</th>\n",
       "      <td>Mieszkanie 75m2 - 4pokoje - 20 min. d...</td>\n",
       "      <td>399000.0</td>\n",
       "      <td>75.0</td>\n",
       "      <td>2</td>\n",
       "    </tr>\n",
       "  </tbody>\n",
       "</table>\n",
       "</div>"
      ],
      "text/plain": [
       "                                      Title      Price  Sq_Footage  District\n",
       "0  Nowe 4 pokoje_12 min od Centrum_Możli...   532790.0        60.6         0\n",
       "1  Mieszkanie bezczynszowe kup za 50% wa...   399000.0        75.0         1\n",
       "2  Nadmorski Apartament MILA BALTICA Wys...  1499000.0        59.0         0\n",
       "3  4-pok. mieszkanie 90m² z ogrodem - 20...   399000.0        90.0         2\n",
       "4  Mieszkanie 75m2 - 4pokoje - 20 min. d...   399000.0        75.0         2"
      ]
     },
     "execution_count": 109,
     "metadata": {},
     "output_type": "execute_result"
    }
   ],
   "source": [
    "df['District'] = df['District'].map(district_mapping)\n",
    "df.head()"
   ]
  },
  {
   "cell_type": "code",
   "execution_count": null,
   "metadata": {},
   "outputs": [],
   "source": []
  }
 ],
 "metadata": {
  "kernelspec": {
   "display_name": "Python 3",
   "language": "python",
   "name": "python3"
  },
  "language_info": {
   "codemirror_mode": {
    "name": "ipython",
    "version": 3
   },
   "file_extension": ".py",
   "mimetype": "text/x-python",
   "name": "python",
   "nbconvert_exporter": "python",
   "pygments_lexer": "ipython3",
   "version": "3.12.0"
  }
 },
 "nbformat": 4,
 "nbformat_minor": 2
}
